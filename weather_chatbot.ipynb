{
  "nbformat": 4,
  "nbformat_minor": 0,
  "metadata": {
    "colab": {
      "provenance": [],
      "authorship_tag": "ABX9TyNkp6mCRA2S/fxBKFdzRHzz",
      "include_colab_link": true
    },
    "kernelspec": {
      "name": "python3",
      "display_name": "Python 3"
    },
    "language_info": {
      "name": "python"
    }
  },
  "cells": [
    {
      "cell_type": "markdown",
      "metadata": {
        "id": "view-in-github",
        "colab_type": "text"
      },
      "source": [
        "<a href=\"https://colab.research.google.com/github/vedhamaya/vedhamaya/blob/main/weather_chatbot.ipynb\" target=\"_parent\"><img src=\"https://colab.research.google.com/assets/colab-badge.svg\" alt=\"Open In Colab\"/></a>"
      ]
    },
    {
      "cell_type": "code",
      "source": [],
      "metadata": {
        "id": "i7nvyx7npJeb"
      },
      "execution_count": null,
      "outputs": []
    },
    {
      "cell_type": "code",
      "execution_count": null,
      "metadata": {
        "colab": {
          "base_uri": "https://localhost:8080/"
        },
        "id": "refhgGKyeAEN",
        "outputId": "08d5830a-a3fc-47e8-9d0e-cdf4463ab0a2"
      },
      "outputs": [
        {
          "output_type": "stream",
          "name": "stdout",
          "text": [
            "Hello! I am a weather chatbot. You can ask me about the weather.\n"
          ]
        }
      ],
      "source": [
        "import re\n",
        "\n",
        "#text patterns\n",
        "weather_patterns = {\n",
        "    'temperature': r'\\b(temperature|temp)\\b',\n",
        "    'rain': r'\\b(rain|rainy)\\b',\n",
        "    'sunny': r'\\b(sun|sunny)\\b',\n",
        "}\n",
        "\n",
        "# predefined responses\n",
        "responses = {\n",
        "    'hello': 'Hi, How can i help you?',\n",
        "    'temperature': 'The current temperature is 72°F.',\n",
        "    'rain': 'Yes, it is currently raining.',\n",
        "    'sunny': 'No, it is sunny outside.',\n",
        "    'default': 'Im sorry, I could not understand your query.',\n",
        "}\n",
        "\n",
        "#input and response matching function\n",
        "def chatbot_response(user_input):\n",
        "    for intent, pattern in weather_patterns.items():\n",
        "        if re.search(pattern, user_input, re.IGNORECASE):\n",
        "            return responses[intent]\n",
        "    return responses['default']\n",
        "\n",
        "# Main loop\n",
        "print(\"Hello! I am a weather chatbot. You can ask me about the weather.\")\n",
        "while True:\n",
        "    user_input = input(\"You: \")\n",
        "    if user_input.lower() == 'exit':\n",
        "        print(\"Chatbot: Goodbye!\")\n",
        "        break\n",
        "    response = chatbot_response(user_input)\n",
        "    print(\"Chatbot:\", response)"
      ]
    }
  ]
}